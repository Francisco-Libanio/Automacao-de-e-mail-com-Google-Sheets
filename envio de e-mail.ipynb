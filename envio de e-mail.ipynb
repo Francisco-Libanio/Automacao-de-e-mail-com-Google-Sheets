{
 "cells": [
  {
   "cell_type": "code",
   "execution_count": 1,
   "id": "1160c50d",
   "metadata": {},
   "outputs": [],
   "source": [
    "import gspread\n",
    "from oauth2client.service_account import ServiceAccountCredentials"
   ]
  },
  {
   "cell_type": "code",
   "execution_count": 5,
   "id": "906ba9ce",
   "metadata": {},
   "outputs": [],
   "source": [
    "#Escopo utilizado\n",
    "scope = ['https://spreadsheets.google.com/feeds']\n",
    "\n",
    "#Dados de autenticação\n",
    "credentials = ServiceAccountCredentials.from_json_keyfile_name('Arquivo com suas credenciais', scope)\n",
    "\n",
    "#Autenticando \n",
    "gc = gspread.authorize(credentials)\n",
    "\n",
    "#Abrindo a planilha\n",
    "wks = gc.open_by_key('ID da planilha')\n",
    "\n",
    "#Selecionando a primeira página da planilha\n",
    "worksheet = wks.get_worksheet(0)\n"
   ]
  },
  {
   "cell_type": "code",
   "execution_count": null,
   "id": "0b7bd696",
   "metadata": {},
   "outputs": [],
   "source": [
    "# Função para consultar o valor de uma célula em uma linha específica\n",
    "def consultar_valor_linha(linha, coluna):\n",
    "    try:\n",
    "        cell_value = worksheet.cell(linha, coluna).value\n",
    "        return cell_value\n",
    "    except Exception as e:\n",
    "        print(f\"Erro ao consultar valor: {e}\")\n",
    "        return None\n",
    "\n",
    "# Substitua esses valores pelos da sua planilha\n",
    "linha_consulta = 10  # Altere para a linha que você deseja consultar\n",
    "coluna_consulta = 3  # Altere para a coluna que você deseja consultar\n",
    "\n",
    "# Chame a função para consultar o valor da célula\n",
    "valor_celula = consultar_valor_linha(linha_consulta, coluna_consulta)\n",
    "\n",
    "if valor_celula is not None:\n",
    "    print(f\"O valor da célula na linha {linha_consulta} e coluna {coluna_consulta} é: {valor_celula}\")\n",
    "else:\n",
    "    print(\"Não foi possível consultar o valor da célula.\")"
   ]
  },
  {
   "cell_type": "code",
   "execution_count": null,
   "id": "42329b38",
   "metadata": {},
   "outputs": [],
   "source": []
  },
  {
   "cell_type": "code",
   "execution_count": null,
   "metadata": {},
   "outputs": [],
   "source": [
    "# Função para consultar o valor de uma célula em uma linha específica\n",
    "def consultar_valor_linha(linha, coluna):\n",
    "    try:\n",
    "        cell_value = worksheet.cell(linha, coluna).value\n",
    "        return cell_value\n",
    "    except Exception as e:\n",
    "        print(f\"Erro ao consultar valor: {e}\")\n",
    "        return None\n",
    "\n",
    "# Substitua esses valores pelos da sua planilha\n",
    "linha_consulta = 10  # Altere para a linha que você deseja consultar\n",
    "coluna_consulta = 3  # Altere para a coluna que você deseja consultar\n",
    "\n",
    "# Chame a função para consultar o valor da célula\n",
    "valor_celula = consultar_valor_linha(linha_consulta, coluna_consulta)\n",
    "\n",
    "if valor_celula is not None:\n",
    "    print(f\"O valor da célula na linha {linha_consulta} e coluna {coluna_consulta} é: {valor_celula}\")\n",
    "else:\n",
    "    print(\"Não foi possível consultar o valor da célula.\")"
   ]
  },
  {
   "cell_type": "code",
   "execution_count": null,
   "id": "dff5b2ee",
   "metadata": {},
   "outputs": [],
   "source": [
    "# Selecionando a primeira página da planilha\n",
    "worksheet = wks.get_worksheet(0)\n",
    "\n",
    "# Obtendo todos os valores das colunas 'Estoque' e 'Descrição', exceto a primeira linha\n",
    "values_estoque = worksheet.col_values(2)[1:]  # Coluna 'Estoque'\n",
    "values_descricao = worksheet.col_values(3)[1:]  # Coluna 'Descrição'\n",
    "values_loja = worksheet.col_values(5)[1:]# coluna Familia\n",
    "\n",
    "# Iterando pelos valores da coluna 'Estoque' e 'Descrição'\n",
    "for valor_estoque, descricao, loja in zip(values_estoque, values_descricao, values_loja):\n",
    "    try:\n",
    "        # Convertendo o valor para um número inteiro\n",
    "        valor_int = int(valor_estoque)\n",
    "        \n",
    "        # Verificando as condições\n",
    "        if valor_int < 5 and valor_int >= 0:\n",
    "            print(f\"O produto {descricao} está com estoque baixo na loja: {loja}\")\n",
    "        elif valor_int < 0:\n",
    "            print(f\"O produto {descricao} na loja {loja} está com estoque negativo e precisa de revisão\")\n",
    "        # Se o valor for maior ou igual a 5, não faz nada\n",
    "        \n",
    "    except ValueError:\n",
    "        # Ignorando valores que não puderem ser convertidos para número\n",
    "        pass\n"
   ]
  },
  {
   "cell_type": "code",
   "execution_count": null,
   "id": "a344d8e4",
   "metadata": {},
   "outputs": [],
   "source": []
  }
 ],
 "metadata": {
  "kernelspec": {
   "display_name": "Python 3 (ipykernel)",
   "language": "python",
   "name": "python3"
  },
  "language_info": {
   "codemirror_mode": {
    "name": "ipython",
    "version": 3
   },
   "file_extension": ".py",
   "mimetype": "text/x-python",
   "name": "python",
   "nbconvert_exporter": "python",
   "pygments_lexer": "ipython3",
   "version": "3.9.12"
  }
 },
 "nbformat": 4,
 "nbformat_minor": 5
}
