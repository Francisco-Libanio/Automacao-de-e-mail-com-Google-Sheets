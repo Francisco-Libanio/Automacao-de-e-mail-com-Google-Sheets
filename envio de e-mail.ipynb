{
 "cells": [
  {
   "cell_type": "code",
   "execution_count": 1,
   "id": "1160c50d",
   "metadata": {},
   "outputs": [],
   "source": [
    "import gspread\n",
    "from oauth2client.service_account import ServiceAccountCredentials"
   ]
  },
  {
   "cell_type": "code",
   "execution_count": 5,
   "id": "906ba9ce",
   "metadata": {},
   "outputs": [],
   "source": [
    "#Escopo utilizado\n",
    "scope = ['https://spreadsheets.google.com/feeds']\n",
    "\n",
    "#Dados de autenticação\n",
    "credentials = ServiceAccountCredentials.from_json_keyfile_name('Arquivo com suas credenciais', scope)\n",
    "\n",
    "#Autenticando \n",
    "gc = gspread.authorize(credentials)\n",
    "\n",
    "#Abrindo a planilha\n",
    "wks = gc.open_by_key('ID da planilha')\n",
    "\n",
    "#Selecionando a primeira página da planilha\n",
    "worksheet = wks.get_worksheet(0)\n"
   ]
  },
  {
   "cell_type": "code",
   "execution_count": null,
   "id": "dff5b2ee",
   "metadata": {},
   "outputs": [],
   "source": [
    "# Selecionando a primeira página da planilha\n",
    "worksheet = wks.get_worksheet(0)\n",
    "\n",
    "# Obtendo todos os valores das colunas 'Estoque' e 'Descrição', exceto a primeira linha\n",
    "values_estoque = worksheet.col_values(7)[1:]  # Coluna 'Estoque'\n",
    "values_descricao = worksheet.col_values(5)[1:]  # Coluna 'Descrição'\n",
    "values_loja = worksheet.col_values(1)[1:]# coluna Familia\n",
    "relatorio = []\n",
    "\n",
    "# Iterando pelos valores das colunas 'Estoque', 'Descrição' e 'Loja'\n",
    "for valor_estoque, descricao, loja in zip(values_estoque, values_descricao, values_loja):\n",
    "    try:\n",
    "        # Convertendo o valor para um número inteiro\n",
    "        valor_int = int(valor_estoque)\n",
    "        \n",
    "        # Verificando as condições\n",
    "        if valor_int < 5 and valor_int >= 0:\n",
    "            lista_relatorio = [valor_estoque, descricao, loja]\n",
    "            relatorio.append(lista_relatorio)\n",
    "        elif valor_int < 0:\n",
    "            lista_relatorio = [valor_estoque, descricao, loja]\n",
    "            relatorio.append(lista_relatorio)\n",
    "        # Se o valor for maior ou igual a 5, não faz nada\n",
    "        \n",
    "    except ValueError:\n",
    "        # Ignorando valores que não puderem ser convertidos para número\n",
    "        pass\n",
    "\n",
    "# Criação do DataFrame após o loop for (fora do bloco try-except)\n",
    "df_relatorio = pd.DataFrame(relatorio, columns=['quantidade', 'Descrição', 'Loja'])\n",
    "display(df_relatorio)"
   ]
  },
  {
   "cell_type": "code",
   "execution_count": null,
   "id": "a344d8e4",
   "metadata": {},
   "outputs": [],
   "source": [
    "#ESTE BLOCO DE CÓDIGO GARAVA TODO O DATAFRAME DE UMA VEZ \n",
    "\n",
    "#Importanto bibliotecas necessárias\n",
    "import gspread\n",
    "from oauth2client.service_account import ServiceAccountCredentials\n",
    "\n",
    "#Escopo utilizado\n",
    "scope = ['https://spreadsheets.google.com/feeds']\n",
    "\n",
    "#Dados de autenticação\n",
    "credentials = ServiceAccountCredentials.from_json_keyfile_name('arquivo com as credenciais.json', scope)\n",
    "\n",
    "#Autenticando \n",
    "gc = gspread.authorize(credentials)\n",
    "\n",
    "#Abrindo a planilha\n",
    "wks = gc.open_by_key('coloque aqui o ID da sua planilha')\n",
    "\n",
    "\n",
    "worksheet = wks.get_worksheet(0)\n",
    "    \n",
    "\n",
    "#Atualizando página\n",
    "#worksheet.update_acell('a1','Funciona')\n",
    "from gspread_dataframe import get_as_dataframe, set_with_dataframe\n",
    "\n",
    "\n",
    "set_with_dataframe(worksheet, df_relatorio,include_index=False)"
   ]
  }
 ],
 "metadata": {
  "kernelspec": {
   "display_name": "Python 3 (ipykernel)",
   "language": "python",
   "name": "python3"
  },
  "language_info": {
   "codemirror_mode": {
    "name": "ipython",
    "version": 3
   },
   "file_extension": ".py",
   "mimetype": "text/x-python",
   "name": "python",
   "nbconvert_exporter": "python",
   "pygments_lexer": "ipython3",
   "version": "3.9.12"
  }
 },
 "nbformat": 4,
 "nbformat_minor": 5
}
